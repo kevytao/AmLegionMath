{
  "metadata": {
    "kernelspec": {
      "name": "python",
      "display_name": "Python (Pyodide)",
      "language": "python"
    },
    "language_info": {
      "codemirror_mode": {
        "name": "python",
        "version": 3
      },
      "file_extension": ".py",
      "mimetype": "text/x-python",
      "name": "python",
      "nbconvert_exporter": "python",
      "pygments_lexer": "ipython3",
      "version": "3.8"
    }
  },
  "nbformat_minor": 5,
  "nbformat": 4,
  "cells": [
    {
      "id": "03810912-94fa-42bb-94a0-51d0bed65b3f",
      "cell_type": "markdown",
      "source": "<b>Click on the cell below and hit the play button to begin.</b>",
      "metadata": {
        "tags": [],
        "editable": true,
        "slideshow": {
          "slide_type": ""
        }
      }
    },
    {
      "id": "b3cd14c6-e6eb-4470-9cc5-3b3cf067d558",
      "cell_type": "code",
      "source": "!pip install numpy",
      "metadata": {
        "trusted": true,
        "tags": [],
        "editable": true,
        "slideshow": {
          "slide_type": ""
        }
      },
      "outputs": [],
      "execution_count": null
    },
    {
      "id": "335ae64e-bead-48be-ad38-929399b7a7d6",
      "cell_type": "markdown",
      "source": "This program is able to print the phrase, \"Hello, World!\" <b>Click on the cell below and then the play button on the toolbar above to see it in action!</b>",
      "metadata": {
        "tags": [],
        "editable": true,
        "slideshow": {
          "slide_type": ""
        }
      }
    },
    {
      "id": "ace0dc1b-c06c-45ba-9fc5-59f69ae37425",
      "cell_type": "code",
      "source": "print(\"Hello, World!\")",
      "metadata": {
        "trusted": true,
        "tags": [],
        "editable": true,
        "slideshow": {
          "slide_type": ""
        }
      },
      "outputs": [
        {
          "name": "stdout",
          "output_type": "stream",
          "text": "Hello, World!\n"
        }
      ],
      "execution_count": 2
    },
    {
      "id": "cfa39aed-3276-4c51-b11b-f67ee8f0124a",
      "cell_type": "markdown",
      "source": "This next program is having trouble asking the world how it is doing. <b>Can you help it out? Play the cell below to see the error in action and then fix the code and hit play again.</b>",
      "metadata": {
        "tags": [],
        "editable": true,
        "slideshow": {
          "slide_type": ""
        }
      }
    },
    {
      "id": "5b429a01-f110-4922-8cf5-8df5a98e941b",
      "cell_type": "code",
      "source": "print(How are you, today?)",
      "metadata": {
        "trusted": true,
        "tags": [],
        "editable": true,
        "slideshow": {
          "slide_type": ""
        }
      },
      "outputs": [
        {
          "ename": "<class 'SyntaxError'>",
          "evalue": "invalid syntax. Perhaps you forgot a comma? (<ipython-input-3-26c22d0cf22c>, line 1)",
          "traceback": [
            "\u001b[0;36m  Cell \u001b[0;32mIn[3], line 1\u001b[0;36m\u001b[0m\n\u001b[0;31m    print(How are you, today?)\u001b[0m\n\u001b[0m          ^\u001b[0m\n\u001b[0;31mSyntaxError\u001b[0m\u001b[0;31m:\u001b[0m invalid syntax. Perhaps you forgot a comma?\n"
          ],
          "output_type": "error"
        }
      ],
      "execution_count": 3
    },
    {
      "id": "9b9413d0-8852-4431-806b-fc280b63084b",
      "cell_type": "markdown",
      "source": "Sally and Fred worked together on a fundraiser. Sally raised 2439 dollars and Fred raised 2134 dollars. <b> Complete the cell below to print a statement on how much Sally and Fred raised together </b>",
      "metadata": {
        "tags": [],
        "editable": true,
        "slideshow": {
          "slide_type": ""
        }
      }
    },
    {
      "id": "dc0133ad-3868-4b15-85d9-b3fccabc529f",
      "cell_type": "code",
      "source": "a = \nb = \nTotal_Funds = a+b\nprint(\"Together, Sally and Fred raised\", Total_Funds, \"dollars together\")",
      "metadata": {
        "trusted": true,
        "tags": [],
        "editable": true,
        "slideshow": {
          "slide_type": ""
        }
      },
      "outputs": [
        {
          "ename": "<class 'SyntaxError'>",
          "evalue": "invalid syntax (<ipython-input-4-bc162642c5bd>, line 1)",
          "traceback": [
            "\u001b[0;36m  Cell \u001b[0;32mIn[4], line 1\u001b[0;36m\u001b[0m\n\u001b[0;31m    a =\u001b[0m\n\u001b[0m        ^\u001b[0m\n\u001b[0;31mSyntaxError\u001b[0m\u001b[0;31m:\u001b[0m invalid syntax\n"
          ],
          "output_type": "error"
        }
      ],
      "execution_count": 4
    },
    {
      "id": "6986e797-3e0e-45ee-8c2c-4e195f16ce73",
      "cell_type": "code",
      "source": "",
      "metadata": {
        "trusted": true,
        "tags": [],
        "editable": true,
        "slideshow": {
          "slide_type": ""
        }
      },
      "outputs": [],
      "execution_count": null
    }
  ]
}