{
  "metadata": {
    "kernelspec": {
      "name": "python",
      "display_name": "Python (Pyodide)",
      "language": "python"
    },
    "language_info": {
      "codemirror_mode": {
        "name": "python",
        "version": 3
      },
      "file_extension": ".py",
      "mimetype": "text/x-python",
      "name": "python",
      "nbconvert_exporter": "python",
      "pygments_lexer": "ipython3",
      "version": "3.8"
    },
    "colab": {
      "provenance": []
    }
  },
  "nbformat_minor": 5,
  "nbformat": 4,
  "cells": [
    {
      "id": "335ae64e-bead-48be-ad38-929399b7a7d6",
      "cell_type": "markdown",
      "source": [
        "This program is able to print the phrase, \"Hello, World!\" <b>Click on the cell below and then the play button on the toolbar above to see it in action!</b>"
      ],
      "metadata": {
        "tags": [],
        "editable": true,
        "id": "335ae64e-bead-48be-ad38-929399b7a7d6"
      }
    },
    {
      "id": "ace0dc1b-c06c-45ba-9fc5-59f69ae37425",
      "cell_type": "code",
      "source": [
        "import numpy as np\n",
        "print(\"Hello, World!\")"
      ],
      "metadata": {
        "trusted": true,
        "tags": [],
        "editable": true,
        "id": "ace0dc1b-c06c-45ba-9fc5-59f69ae37425",
        "outputId": "739f62e1-4410-4645-b95a-b369d06498f8"
      },
      "outputs": [
        {
          "name": "stdout",
          "output_type": "stream",
          "text": "Hello, World!\n"
        }
      ],
      "execution_count": null
    },
    {
      "id": "cfa39aed-3276-4c51-b11b-f67ee8f0124a",
      "cell_type": "markdown",
      "source": [
        "This next program is having trouble asking the world how it is doing. <b>Can you help it out? Play the cell below to see the error in action and then fix the code and hit play again.</b>"
      ],
      "metadata": {
        "tags": [],
        "editable": true,
        "id": "cfa39aed-3276-4c51-b11b-f67ee8f0124a"
      }
    },
    {
      "id": "5b429a01-f110-4922-8cf5-8df5a98e941b",
      "cell_type": "code",
      "source": [
        "print(How are you, today?)"
      ],
      "metadata": {
        "trusted": true,
        "tags": [],
        "editable": true,
        "id": "5b429a01-f110-4922-8cf5-8df5a98e941b",
        "outputId": "4d01de32-ba62-41ac-87ea-2a3234b18a69"
      },
      "outputs": [
        {
          "ename": "<class 'SyntaxError'>",
          "evalue": "invalid syntax. Perhaps you forgot a comma? (<ipython-input-3-26c22d0cf22c>, line 1)",
          "traceback": [
            "\u001b[0;36m  Cell \u001b[0;32mIn[3], line 1\u001b[0;36m\u001b[0m\n\u001b[0;31m    print(How are you, today?)\u001b[0m\n\u001b[0m          ^\u001b[0m\n\u001b[0;31mSyntaxError\u001b[0m\u001b[0;31m:\u001b[0m invalid syntax. Perhaps you forgot a comma?\n"
          ],
          "output_type": "error"
        }
      ],
      "execution_count": null
    },
    {
      "id": "9b9413d0-8852-4431-806b-fc280b63084b",
      "cell_type": "markdown",
      "source": [
        "Sally and Fred worked together on a fundraiser. Sally raised 2439 dollars and Fred raised 2134 dollars. <b> Complete the cell below to print a statement on how much Sally and Fred raised together </b>"
      ],
      "metadata": {
        "tags": [],
        "editable": true,
        "id": "9b9413d0-8852-4431-806b-fc280b63084b"
      }
    },
    {
      "id": "dc0133ad-3868-4b15-85d9-b3fccabc529f",
      "cell_type": "code",
      "source": [
        "a =\n",
        "b =\n",
        "Total_Funds = a+b\n",
        "print(\"Together, Sally and Fred raised\", Total_Funds, \"dollars together\")"
      ],
      "metadata": {
        "trusted": true,
        "tags": [],
        "editable": true,
        "id": "dc0133ad-3868-4b15-85d9-b3fccabc529f",
        "outputId": "c13f1629-30db-42fd-d038-7232192d5818"
      },
      "outputs": [
        {
          "ename": "<class 'SyntaxError'>",
          "evalue": "invalid syntax (<ipython-input-3-bc162642c5bd>, line 1)",
          "traceback": [
            "\u001b[0;36m  Cell \u001b[0;32mIn[3], line 1\u001b[0;36m\u001b[0m\n\u001b[0;31m    a =\u001b[0m\n\u001b[0m        ^\u001b[0m\n\u001b[0;31mSyntaxError\u001b[0m\u001b[0;31m:\u001b[0m invalid syntax\n"
          ],
          "output_type": "error"
        }
      ],
      "execution_count": null
    }
  ]
}